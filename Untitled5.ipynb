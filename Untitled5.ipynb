{
  "nbformat": 4,
  "nbformat_minor": 0,
  "metadata": {
    "colab": {
      "provenance": [],
      "gpuType": "T4",
      "authorship_tag": "ABX9TyMPPY4FcYsxHCt2aLknVkoV",
      "include_colab_link": true
    },
    "kernelspec": {
      "name": "python3",
      "display_name": "Python 3"
    },
    "language_info": {
      "name": "python"
    },
    "accelerator": "GPU",
    "widgets": {
      "application/vnd.jupyter.widget-state+json": {
        "11a1c87ba17d469f914eb8f9cccc1974": {
          "model_module": "@jupyter-widgets/output",
          "model_name": "OutputModel",
          "model_module_version": "1.0.0",
          "state": {
            "_dom_classes": [],
            "_model_module": "@jupyter-widgets/output",
            "_model_module_version": "1.0.0",
            "_model_name": "OutputModel",
            "_view_count": null,
            "_view_module": "@jupyter-widgets/output",
            "_view_module_version": "1.0.0",
            "_view_name": "OutputView",
            "layout": "IPY_MODEL_b452cd74a83c4d929492a17cf01ae7fc",
            "msg_id": "",
            "outputs": [
              {
                "output_type": "display_data",
                "data": {
                  "text/plain": "Statistics collection \u001b[38;2;249;38;114m━━━━\u001b[0m\u001b[38;5;237m╺\u001b[0m\u001b[38;5;237m━━━━━━━━━━━━━━━━━━━━━━━━━━━━━━━━━━━━━━━━━━━━━━━━━━━━━━━━━━\u001b[0m \u001b[35m  7%\u001b[0m \u001b[38;2;0;104;181m2/30\u001b[0m • \u001b[38;2;0;104;181m0:00:29\u001b[0m • \u001b[38;2;0;104;181m0:04:31\u001b[0m\n",
                  "text/html": "<pre style=\"white-space:pre;overflow-x:auto;line-height:normal;font-family:Menlo,'DejaVu Sans Mono',consolas,'Courier New',monospace\">Statistics collection <span style=\"color: #f92672; text-decoration-color: #f92672\">━━━━</span><span style=\"color: #3a3a3a; text-decoration-color: #3a3a3a\">╺━━━━━━━━━━━━━━━━━━━━━━━━━━━━━━━━━━━━━━━━━━━━━━━━━━━━━━━━━━</span> <span style=\"color: #800080; text-decoration-color: #800080\">  7%</span> <span style=\"color: #0068b5; text-decoration-color: #0068b5\">2/30</span> • <span style=\"color: #0068b5; text-decoration-color: #0068b5\">0:00:29</span> • <span style=\"color: #0068b5; text-decoration-color: #0068b5\">0:04:31</span>\n</pre>\n"
                },
                "metadata": {}
              }
            ]
          }
        },
        "b452cd74a83c4d929492a17cf01ae7fc": {
          "model_module": "@jupyter-widgets/base",
          "model_name": "LayoutModel",
          "model_module_version": "1.2.0",
          "state": {
            "_model_module": "@jupyter-widgets/base",
            "_model_module_version": "1.2.0",
            "_model_name": "LayoutModel",
            "_view_count": null,
            "_view_module": "@jupyter-widgets/base",
            "_view_module_version": "1.2.0",
            "_view_name": "LayoutView",
            "align_content": null,
            "align_items": null,
            "align_self": null,
            "border": null,
            "bottom": null,
            "display": null,
            "flex": null,
            "flex_flow": null,
            "grid_area": null,
            "grid_auto_columns": null,
            "grid_auto_flow": null,
            "grid_auto_rows": null,
            "grid_column": null,
            "grid_gap": null,
            "grid_row": null,
            "grid_template_areas": null,
            "grid_template_columns": null,
            "grid_template_rows": null,
            "height": null,
            "justify_content": null,
            "justify_items": null,
            "left": null,
            "margin": null,
            "max_height": null,
            "max_width": null,
            "min_height": null,
            "min_width": null,
            "object_fit": null,
            "object_position": null,
            "order": null,
            "overflow": null,
            "overflow_x": null,
            "overflow_y": null,
            "padding": null,
            "right": null,
            "top": null,
            "visibility": null,
            "width": null
          }
        }
      }
    }
  },
  "cells": [
    {
      "cell_type": "markdown",
      "metadata": {
        "id": "view-in-github",
        "colab_type": "text"
      },
      "source": [
        "<a href=\"https://colab.research.google.com/github/Harsh-PratapSingh/Intel_Project_2025/blob/main/Untitled5.ipynb\" target=\"_parent\"><img src=\"https://colab.research.google.com/assets/colab-badge.svg\" alt=\"Open In Colab\"/></a>"
      ]
    },
    {
      "cell_type": "code",
      "execution_count": 1,
      "metadata": {
        "colab": {
          "base_uri": "https://localhost:8080/"
        },
        "collapsed": true,
        "id": "HoXS-VoCTnKq",
        "outputId": "569d49c1-8de4-4830-9046-4410d5f372e3"
      },
      "outputs": [
        {
          "output_type": "stream",
          "name": "stdout",
          "text": [
            "Requirement already satisfied: openvino==2024.4.0 in /usr/local/lib/python3.12/dist-packages (2024.4.0)\n",
            "Requirement already satisfied: openvino-dev==2024.4.0 in /usr/local/lib/python3.12/dist-packages (from openvino-dev[onnx]==2024.4.0) (2024.4.0)\n",
            "Requirement already satisfied: nncf==2.13.0 in /usr/local/lib/python3.12/dist-packages (2.13.0)\n",
            "Requirement already satisfied: numpy<2.1.0,>=1.16.6 in /usr/local/lib/python3.12/dist-packages (from openvino==2024.4.0) (1.26.4)\n",
            "Requirement already satisfied: openvino-telemetry>=2023.2.1 in /usr/local/lib/python3.12/dist-packages (from openvino==2024.4.0) (2025.2.0)\n",
            "Requirement already satisfied: packaging in /usr/local/lib/python3.12/dist-packages (from openvino==2024.4.0) (25.0)\n",
            "Requirement already satisfied: defusedxml>=0.7.1 in /usr/local/lib/python3.12/dist-packages (from openvino-dev==2024.4.0->openvino-dev[onnx]==2024.4.0) (0.7.1)\n",
            "Requirement already satisfied: networkx<=3.1.0 in /usr/local/lib/python3.12/dist-packages (from openvino-dev==2024.4.0->openvino-dev[onnx]==2024.4.0) (3.1)\n",
            "Requirement already satisfied: pyyaml>=5.4.1 in /usr/local/lib/python3.12/dist-packages (from openvino-dev==2024.4.0->openvino-dev[onnx]==2024.4.0) (6.0.2)\n",
            "Requirement already satisfied: requests>=2.25.1 in /usr/local/lib/python3.12/dist-packages (from openvino-dev==2024.4.0->openvino-dev[onnx]==2024.4.0) (2.32.4)\n",
            "Requirement already satisfied: jsonschema>=3.2.0 in /usr/local/lib/python3.12/dist-packages (from nncf==2.13.0) (4.25.1)\n",
            "Requirement already satisfied: jstyleson>=0.0.2 in /usr/local/lib/python3.12/dist-packages (from nncf==2.13.0) (0.0.2)\n",
            "Requirement already satisfied: natsort>=7.1.0 in /usr/local/lib/python3.12/dist-packages (from nncf==2.13.0) (8.4.0)\n",
            "Requirement already satisfied: ninja<1.12,>=1.10.0.post2 in /usr/local/lib/python3.12/dist-packages (from nncf==2.13.0) (1.11.1.4)\n",
            "Requirement already satisfied: pandas<2.3,>=1.1.5 in /usr/local/lib/python3.12/dist-packages (from nncf==2.13.0) (2.2.2)\n",
            "Requirement already satisfied: psutil in /usr/local/lib/python3.12/dist-packages (from nncf==2.13.0) (5.9.5)\n",
            "Requirement already satisfied: pydot<3.0.0,>=1.4.1 in /usr/local/lib/python3.12/dist-packages (from nncf==2.13.0) (2.0.0)\n",
            "Requirement already satisfied: pymoo>=0.6.0.1 in /usr/local/lib/python3.12/dist-packages (from nncf==2.13.0) (0.6.1.5)\n",
            "Requirement already satisfied: rich>=13.5.2 in /usr/local/lib/python3.12/dist-packages (from nncf==2.13.0) (13.9.4)\n",
            "Requirement already satisfied: scikit-learn>=0.24.0 in /usr/local/lib/python3.12/dist-packages (from nncf==2.13.0) (1.6.1)\n",
            "Requirement already satisfied: scipy>=1.3.2 in /usr/local/lib/python3.12/dist-packages (from nncf==2.13.0) (1.16.1)\n",
            "Requirement already satisfied: tabulate>=0.9.0 in /usr/local/lib/python3.12/dist-packages (from nncf==2.13.0) (0.9.0)\n",
            "Requirement already satisfied: tqdm>=4.54.1 in /usr/local/lib/python3.12/dist-packages (from nncf==2.13.0) (4.67.1)\n",
            "Requirement already satisfied: fastjsonschema<2.18,>=2.15.1 in /usr/local/lib/python3.12/dist-packages (from openvino-dev[onnx]==2024.4.0) (2.17.1)\n",
            "Requirement already satisfied: protobuf<4.0.0,>=3.18.1 in /usr/local/lib/python3.12/dist-packages (from openvino-dev[onnx]==2024.4.0) (3.20.3)\n",
            "Requirement already satisfied: onnx<=1.16.0,>=1.8.1 in /usr/local/lib/python3.12/dist-packages (from openvino-dev[onnx]==2024.4.0) (1.16.0)\n",
            "Requirement already satisfied: attrs>=22.2.0 in /usr/local/lib/python3.12/dist-packages (from jsonschema>=3.2.0->nncf==2.13.0) (25.3.0)\n",
            "Requirement already satisfied: jsonschema-specifications>=2023.03.6 in /usr/local/lib/python3.12/dist-packages (from jsonschema>=3.2.0->nncf==2.13.0) (2025.4.1)\n",
            "Requirement already satisfied: referencing>=0.28.4 in /usr/local/lib/python3.12/dist-packages (from jsonschema>=3.2.0->nncf==2.13.0) (0.36.2)\n",
            "Requirement already satisfied: rpds-py>=0.7.1 in /usr/local/lib/python3.12/dist-packages (from jsonschema>=3.2.0->nncf==2.13.0) (0.27.1)\n",
            "Requirement already satisfied: python-dateutil>=2.8.2 in /usr/local/lib/python3.12/dist-packages (from pandas<2.3,>=1.1.5->nncf==2.13.0) (2.9.0.post0)\n",
            "Requirement already satisfied: pytz>=2020.1 in /usr/local/lib/python3.12/dist-packages (from pandas<2.3,>=1.1.5->nncf==2.13.0) (2025.2)\n",
            "Requirement already satisfied: tzdata>=2022.7 in /usr/local/lib/python3.12/dist-packages (from pandas<2.3,>=1.1.5->nncf==2.13.0) (2025.2)\n",
            "Requirement already satisfied: pyparsing>=3 in /usr/local/lib/python3.12/dist-packages (from pydot<3.0.0,>=1.4.1->nncf==2.13.0) (3.2.3)\n",
            "Requirement already satisfied: matplotlib>=3 in /usr/local/lib/python3.12/dist-packages (from pymoo>=0.6.0.1->nncf==2.13.0) (3.10.0)\n",
            "Requirement already satisfied: autograd>=1.4 in /usr/local/lib/python3.12/dist-packages (from pymoo>=0.6.0.1->nncf==2.13.0) (1.8.0)\n",
            "Requirement already satisfied: cma>=3.2.2 in /usr/local/lib/python3.12/dist-packages (from pymoo>=0.6.0.1->nncf==2.13.0) (4.3.0)\n",
            "Requirement already satisfied: alive-progress in /usr/local/lib/python3.12/dist-packages (from pymoo>=0.6.0.1->nncf==2.13.0) (3.3.0)\n",
            "Requirement already satisfied: dill in /usr/local/lib/python3.12/dist-packages (from pymoo>=0.6.0.1->nncf==2.13.0) (0.3.8)\n",
            "Requirement already satisfied: Deprecated in /usr/local/lib/python3.12/dist-packages (from pymoo>=0.6.0.1->nncf==2.13.0) (1.2.18)\n",
            "Requirement already satisfied: charset_normalizer<4,>=2 in /usr/local/lib/python3.12/dist-packages (from requests>=2.25.1->openvino-dev==2024.4.0->openvino-dev[onnx]==2024.4.0) (3.4.3)\n",
            "Requirement already satisfied: idna<4,>=2.5 in /usr/local/lib/python3.12/dist-packages (from requests>=2.25.1->openvino-dev==2024.4.0->openvino-dev[onnx]==2024.4.0) (3.10)\n",
            "Requirement already satisfied: urllib3<3,>=1.21.1 in /usr/local/lib/python3.12/dist-packages (from requests>=2.25.1->openvino-dev==2024.4.0->openvino-dev[onnx]==2024.4.0) (2.5.0)\n",
            "Requirement already satisfied: certifi>=2017.4.17 in /usr/local/lib/python3.12/dist-packages (from requests>=2.25.1->openvino-dev==2024.4.0->openvino-dev[onnx]==2024.4.0) (2025.8.3)\n",
            "Requirement already satisfied: markdown-it-py>=2.2.0 in /usr/local/lib/python3.12/dist-packages (from rich>=13.5.2->nncf==2.13.0) (4.0.0)\n",
            "Requirement already satisfied: pygments<3.0.0,>=2.13.0 in /usr/local/lib/python3.12/dist-packages (from rich>=13.5.2->nncf==2.13.0) (2.19.2)\n",
            "Requirement already satisfied: joblib>=1.2.0 in /usr/local/lib/python3.12/dist-packages (from scikit-learn>=0.24.0->nncf==2.13.0) (1.5.2)\n",
            "Requirement already satisfied: threadpoolctl>=3.1.0 in /usr/local/lib/python3.12/dist-packages (from scikit-learn>=0.24.0->nncf==2.13.0) (3.6.0)\n",
            "Requirement already satisfied: mdurl~=0.1 in /usr/local/lib/python3.12/dist-packages (from markdown-it-py>=2.2.0->rich>=13.5.2->nncf==2.13.0) (0.1.2)\n",
            "Requirement already satisfied: contourpy>=1.0.1 in /usr/local/lib/python3.12/dist-packages (from matplotlib>=3->pymoo>=0.6.0.1->nncf==2.13.0) (1.3.3)\n",
            "Requirement already satisfied: cycler>=0.10 in /usr/local/lib/python3.12/dist-packages (from matplotlib>=3->pymoo>=0.6.0.1->nncf==2.13.0) (0.12.1)\n",
            "Requirement already satisfied: fonttools>=4.22.0 in /usr/local/lib/python3.12/dist-packages (from matplotlib>=3->pymoo>=0.6.0.1->nncf==2.13.0) (4.59.2)\n",
            "Requirement already satisfied: kiwisolver>=1.3.1 in /usr/local/lib/python3.12/dist-packages (from matplotlib>=3->pymoo>=0.6.0.1->nncf==2.13.0) (1.4.9)\n",
            "Requirement already satisfied: pillow>=8 in /usr/local/lib/python3.12/dist-packages (from matplotlib>=3->pymoo>=0.6.0.1->nncf==2.13.0) (11.3.0)\n",
            "Requirement already satisfied: six>=1.5 in /usr/local/lib/python3.12/dist-packages (from python-dateutil>=2.8.2->pandas<2.3,>=1.1.5->nncf==2.13.0) (1.17.0)\n",
            "Requirement already satisfied: typing-extensions>=4.4.0 in /usr/local/lib/python3.12/dist-packages (from referencing>=0.28.4->jsonschema>=3.2.0->nncf==2.13.0) (4.15.0)\n",
            "Requirement already satisfied: about-time==4.2.1 in /usr/local/lib/python3.12/dist-packages (from alive-progress->pymoo>=0.6.0.1->nncf==2.13.0) (4.2.1)\n",
            "Requirement already satisfied: graphemeu==0.7.2 in /usr/local/lib/python3.12/dist-packages (from alive-progress->pymoo>=0.6.0.1->nncf==2.13.0) (0.7.2)\n",
            "Requirement already satisfied: wrapt<2,>=1.10 in /usr/local/lib/python3.12/dist-packages (from Deprecated->pymoo>=0.6.0.1->nncf==2.13.0) (1.17.3)\n"
          ]
        }
      ],
      "source": [
        "!pip install openvino==2024.4.0 openvino-dev[onnx]==2024.4.0 nncf==2.13.0\n",
        "!pip install onnxruntime"
      ]
    },
    {
      "cell_type": "code",
      "source": [
        "import openvino as ov\n",
        "\n",
        "import nncf\n",
        "import numpy as np\n",
        "from PIL import Image\n",
        "import os\n",
        "import gc\n",
        "\n",
        "import time\n",
        "import onnxruntime as ort\n",
        "import openvino as ov\n",
        "\n",
        "onnx_path = 'superpoint_lightglue_pipeline.onnx'\n",
        "\n",
        "model = ov.convert_model(onnx_path)\n",
        "input_names = [input.get_any_name() for input in model.inputs]\n",
        "print(\"Model input names:\", input_names)\n",
        "\n",
        "ov.save_model(model, 'model_ir.xml')\n"
      ],
      "metadata": {
        "colab": {
          "base_uri": "https://localhost:8080/"
        },
        "id": "E2QyJlwhT8ey",
        "outputId": "d5658a2d-88c6-48ed-f8c1-6645cfe51ca2"
      },
      "execution_count": 4,
      "outputs": [
        {
          "output_type": "stream",
          "name": "stdout",
          "text": [
            "INFO:nncf:NNCF initialized successfully. Supported frameworks detected: torch, tensorflow, onnx, openvino\n",
            "Model input names: ['images']\n",
            "Model input names: ['images']\n"
          ]
        }
      ]
    },
    {
      "cell_type": "code",
      "source": [
        "image_dir = '/content/'\n",
        "image_files = sorted([f for f in os.listdir(image_dir) if f.startswith('000') and f.endswith('.png')])\n",
        "image_pairs = [(os.path.join(image_dir, image_files[i]), os.path.join(image_dir, image_files[i+1]))\n",
        "               for i in range(0, len(image_files) - 1, 2)]\n",
        "\n",
        "limited_pairs = image_pairs[:30]\n",
        "\n",
        "def load_image_pair(left_path, right_path, target_size=(512, 512)):\n",
        "    left = np.array(Image.open(left_path).convert('L').resize(target_size))\n",
        "    right = np.array(Image.open(right_path).convert('L').resize(target_size))\n",
        "    interleaved = np.stack([left, right])[:, np.newaxis, :, :].astype(np.float32) / 255.0\n",
        "    gc.collect()\n",
        "    return interleaved"
      ],
      "metadata": {
        "id": "Ohglr3CmU9bh"
      },
      "execution_count": 5,
      "outputs": []
    },
    {
      "cell_type": "code",
      "source": [
        "def data_source():\n",
        "    for left, right in limited_pairs:\n",
        "        yield {'images': load_image_pair(left, right)}\n",
        "\n",
        "calibration_dataset = nncf.Dataset(data_source())\n"
      ],
      "metadata": {
        "id": "HxnPm815VGQL"
      },
      "execution_count": 25,
      "outputs": []
    },
    {
      "cell_type": "code",
      "source": [
        "quantized_model = nncf.quantize(\n",
        "    model,\n",
        "    calibration_dataset,\n",
        "    preset=nncf.QuantizationPreset.PERFORMANCE,\n",
        "    subset_size=len(limited_pairs)\n",
        ")"
      ],
      "metadata": {
        "colab": {
          "base_uri": "https://localhost:8080/",
          "height": 33,
          "referenced_widgets": [
            "11a1c87ba17d469f914eb8f9cccc1974",
            "b452cd74a83c4d929492a17cf01ae7fc"
          ]
        },
        "id": "uD_N5wjGWNss",
        "outputId": "ead1244f-6365-4e80-f3ba-8def1f6028b1"
      },
      "execution_count": null,
      "outputs": [
        {
          "output_type": "display_data",
          "data": {
            "text/plain": [
              "Output()"
            ],
            "application/vnd.jupyter.widget-view+json": {
              "version_major": 2,
              "version_minor": 0,
              "model_id": "11a1c87ba17d469f914eb8f9cccc1974"
            }
          },
          "metadata": {}
        }
      ]
    },
    {
      "cell_type": "code",
      "source": [
        "ov.save_model(quantized_model, '/content/quantized_model.xml')\n",
        "gc.collect()\n",
        "print(f\"Quantization complete with {len(limited_pairs)} pairs! Files saved: quantized_model.xml and quantized_model.bin\")"
      ],
      "metadata": {
        "colab": {
          "base_uri": "https://localhost:8080/"
        },
        "id": "B8HV7G_gaP9l",
        "outputId": "ad56e8d3-8744-4382-e416-c8bee7d13514"
      },
      "execution_count": 8,
      "outputs": [
        {
          "output_type": "stream",
          "name": "stdout",
          "text": [
            "Quantization complete with 30 pairs! Files saved: quantized_model.xml and quantized_model.bin\n"
          ]
        }
      ]
    },
    {
      "cell_type": "code",
      "source": [
        "core = ov.Core()\n",
        "compiled_model = core.compile_model(quantized_model, 'CPU')\n",
        "sample_input = np.random.rand(2, 1, 512, 512).astype(np.float32)  # Match reduced size\n",
        "result = compiled_model([sample_input])\n",
        "print(\"Test output shapes:\", {k: v.shape for k, v in result.items()})"
      ],
      "metadata": {
        "colab": {
          "base_uri": "https://localhost:8080/"
        },
        "id": "JssZeaVZaVH_",
        "outputId": "cbf972e4-5741-4d80-d3ef-39bd889dc1f4"
      },
      "execution_count": 9,
      "outputs": [
        {
          "output_type": "stream",
          "name": "stdout",
          "text": [
            "Test output shapes: {<ConstOutput: names[keypoints] shape[?,1024,2] type: i64>: (2, 1024, 2), <ConstOutput: names[matches] shape[?,3] type: i64>: (1, 3), <ConstOutput: names[mscores, /matcher/Reshape_2_output_0] shape[?] type: f32>: (1,)}\n"
          ]
        }
      ]
    },
    {
      "cell_type": "code",
      "source": [],
      "metadata": {
        "colab": {
          "base_uri": "https://localhost:8080/"
        },
        "id": "4J5vGGaibdWU",
        "outputId": "215f5792-b56d-47d3-ed57-927908656ca2"
      },
      "execution_count": 12,
      "outputs": [
        {
          "output_type": "stream",
          "name": "stdout",
          "text": [
            "Collecting onnxruntime\n",
            "  Downloading onnxruntime-1.22.1-cp312-cp312-manylinux_2_27_x86_64.manylinux_2_28_x86_64.whl.metadata (4.9 kB)\n",
            "Collecting coloredlogs (from onnxruntime)\n",
            "  Downloading coloredlogs-15.0.1-py2.py3-none-any.whl.metadata (12 kB)\n",
            "Requirement already satisfied: flatbuffers in /usr/local/lib/python3.12/dist-packages (from onnxruntime) (25.2.10)\n",
            "Requirement already satisfied: numpy>=1.21.6 in /usr/local/lib/python3.12/dist-packages (from onnxruntime) (1.26.4)\n",
            "Requirement already satisfied: packaging in /usr/local/lib/python3.12/dist-packages (from onnxruntime) (25.0)\n",
            "Requirement already satisfied: protobuf in /usr/local/lib/python3.12/dist-packages (from onnxruntime) (3.20.3)\n",
            "Requirement already satisfied: sympy in /usr/local/lib/python3.12/dist-packages (from onnxruntime) (1.13.3)\n",
            "Collecting humanfriendly>=9.1 (from coloredlogs->onnxruntime)\n",
            "  Downloading humanfriendly-10.0-py2.py3-none-any.whl.metadata (9.2 kB)\n",
            "Requirement already satisfied: mpmath<1.4,>=1.1.0 in /usr/local/lib/python3.12/dist-packages (from sympy->onnxruntime) (1.3.0)\n",
            "Downloading onnxruntime-1.22.1-cp312-cp312-manylinux_2_27_x86_64.manylinux_2_28_x86_64.whl (16.5 MB)\n",
            "\u001b[2K   \u001b[90m━━━━━━━━━━━━━━━━━━━━━━━━━━━━━━━━━━━━━━━━\u001b[0m \u001b[32m16.5/16.5 MB\u001b[0m \u001b[31m83.0 MB/s\u001b[0m eta \u001b[36m0:00:00\u001b[0m\n",
            "\u001b[?25hDownloading coloredlogs-15.0.1-py2.py3-none-any.whl (46 kB)\n",
            "\u001b[2K   \u001b[90m━━━━━━━━━━━━━━━━━━━━━━━━━━━━━━━━━━━━━━━━\u001b[0m \u001b[32m46.0/46.0 kB\u001b[0m \u001b[31m4.6 MB/s\u001b[0m eta \u001b[36m0:00:00\u001b[0m\n",
            "\u001b[?25hDownloading humanfriendly-10.0-py2.py3-none-any.whl (86 kB)\n",
            "\u001b[2K   \u001b[90m━━━━━━━━━━━━━━━━━━━━━━━━━━━━━━━━━━━━━━━━\u001b[0m \u001b[32m86.8/86.8 kB\u001b[0m \u001b[31m8.5 MB/s\u001b[0m eta \u001b[36m0:00:00\u001b[0m\n",
            "\u001b[?25hInstalling collected packages: humanfriendly, coloredlogs, onnxruntime\n",
            "Successfully installed coloredlogs-15.0.1 humanfriendly-10.0 onnxruntime-1.22.1\n"
          ]
        }
      ]
    },
    {
      "cell_type": "code",
      "source": [
        "def load_and_preprocess_image_pair(left_path, right_path, target_size=(512, 512)):\n",
        "    left = np.array(Image.open(left_path).convert('L').resize(target_size))\n",
        "    right = np.array(Image.open(right_path).convert('L').resize(target_size))\n",
        "    interleaved = np.stack([left, right])[:, np.newaxis, :, :].astype(np.float32) / 255.0\n",
        "    return interleaved\n",
        "\n",
        "img_left = '/content/000000.png'\n",
        "img_right = '/content/000001.png'\n",
        "input_data = load_and_preprocess_image_pair(img_left, img_right)\n"
      ],
      "metadata": {
        "colab": {
          "base_uri": "https://localhost:8080/"
        },
        "id": "YwBOwb5QbR_e",
        "outputId": "90ba88f5-e4b3-420a-fb37-8196e4af7a50"
      },
      "execution_count": 17,
      "outputs": [
        {
          "output_type": "stream",
          "name": "stdout",
          "text": [
            "Original ONNX average inference time: 6.3326 seconds\n",
            "Optimized INT8 average inference time: 12.1122 seconds\n",
            "Speedup factor: 0.52x (optimized is faster if >1)\n"
          ]
        }
      ]
    },
    {
      "cell_type": "code",
      "source": [
        "core = ov.Core()\n",
        "original_model = core.compile_model('/content/model_ir.xml', 'AUTO')\n",
        "start = time.time()\n",
        "_ = original_model([input_data])\n",
        "org_time = (time.time() - start)\n",
        "print(f\"Original average inference time: {org_time:.4f} seconds\")\n",
        "\n",
        "compiled_model = core.compile_model('/content/quantized_model.xml', 'AUTO')\n",
        "\n",
        "start = time.time()\n",
        "_ = compiled_model([input_data])\n",
        "opt_time = time.time() - start\n",
        "print(f\"Optimized INT8 average inference time: {opt_time:.4f} seconds\")\n",
        "\n",
        "# Speedup calculation\n",
        "speedup = org_time / opt_time\n",
        "print(f\"Speedup factor: {speedup:.2f}x (optimized is faster if >1)\")"
      ],
      "metadata": {
        "colab": {
          "base_uri": "https://localhost:8080/"
        },
        "id": "NOkLsNI2efiM",
        "outputId": "235198f8-542e-4359-d290-5d9ebee8323a"
      },
      "execution_count": 23,
      "outputs": [
        {
          "output_type": "stream",
          "name": "stdout",
          "text": [
            "Original average inference time: 12.4450 seconds\n",
            "Optimized INT8 average inference time: 10.3892 seconds\n",
            "Speedup factor: 1.20x (optimized is faster if >1)\n"
          ]
        }
      ]
    }
  ]
}